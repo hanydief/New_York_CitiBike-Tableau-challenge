{
 "cells": [
  {
   "cell_type": "code",
   "execution_count": null,
   "metadata": {},
   "outputs": [],
   "source": [
    "import pandas as pd\n",
    "import numpy as np\n",
    "from datetime import datetime\n",
    "from email import utils"
   ]
  },
  {
   "cell_type": "code",
   "execution_count": null,
   "metadata": {},
   "outputs": [],
   "source": [
    "df_jan = pd.read_csv(\"JC-202301-citibike-tripdata.csv\",encoding=\"utf8\")\n",
    "df_feb = pd.read_csv(\"JC-202302-citibike-tripdata.csv\",encoding=\"utf8\")\n",
    "df_mar = pd.read_csv(\"JC-202303-citibike-tripdata.csv\",encoding=\"utf8\")\n",
    "df_apr = pd.read_csv(\"JC-202304-citibike-tripdata.csv\",encoding=\"utf8\")\n",
    "df_may = pd.read_csv(\"JC-202305-citibike-tripdata.csv\",encoding=\"utf8\")\n",
    "df_jun = pd.read_csv(\"JC-202306-citibike-tripdata.csv\",encoding=\"utf8\")\n"
   ]
  },
  {
   "cell_type": "code",
   "execution_count": null,
   "metadata": {},
   "outputs": [],
   "source": [
    "# pd.concat([df1, df2], axis=0)\n",
    "main_df = pd.concat([df_jan,df_feb,df_mar,df_apr,df_may,df_jun],axis=0)"
   ]
  },
  {
   "cell_type": "code",
   "execution_count": null,
   "metadata": {},
   "outputs": [],
   "source": [
    "main_df.info()"
   ]
  },
  {
   "cell_type": "code",
   "execution_count": null,
   "metadata": {},
   "outputs": [],
   "source": [
    "main_df[\"ride_id\"].nunique()"
   ]
  },
  {
   "cell_type": "code",
   "execution_count": null,
   "metadata": {},
   "outputs": [],
   "source": [
    "main_df.dropna(inplace=True)"
   ]
  },
  {
   "cell_type": "code",
   "execution_count": null,
   "metadata": {},
   "outputs": [],
   "source": [
    "main_df[\"ride_id\"].nunique()"
   ]
  },
  {
   "cell_type": "code",
   "execution_count": null,
   "metadata": {},
   "outputs": [],
   "source": [
    "main_df.info()"
   ]
  },
  {
   "cell_type": "code",
   "execution_count": null,
   "metadata": {},
   "outputs": [],
   "source": [
    "main_df.head()"
   ]
  },
  {
   "cell_type": "code",
   "execution_count": null,
   "metadata": {},
   "outputs": [],
   "source": [
    "main_df.to_csv(\"main_concat.csv\",index=False)"
   ]
  },
  {
   "cell_type": "code",
   "execution_count": null,
   "metadata": {},
   "outputs": [],
   "source": [
    "df_test = pd.read_csv(\"main_concat.csv\",encoding=\"utf8\")\n",
    "df_test.info()"
   ]
  },
  {
   "cell_type": "code",
   "execution_count": null,
   "metadata": {},
   "outputs": [],
   "source": [
    "main_df.tail()"
   ]
  },
  {
   "cell_type": "code",
   "execution_count": null,
   "metadata": {},
   "outputs": [],
   "source": [
    "from math import sin, cos, sqrt, atan2, radians\n",
    "\n",
    "# Approximate radius of earth in km\n",
    "R = 6373.0\n",
    "\n",
    "lat1 = radians(40.735938)\n",
    "lon1 = radians(-74.030305)\n",
    "lat2 = radians(40.727596)\n",
    "lon2 = radians(-74.044247)\n",
    "\n",
    "dlon = lon2 - lon1\n",
    "dlat = lat2 - lat1\n",
    "\n",
    "a = sin(dlat / 2)**2 + cos(lat1) * cos(lat2) * sin(dlon / 2)**2\n",
    "c = 2 * atan2(sqrt(a), sqrt(1 - a))\n",
    "\n",
    "distance = R * c\n",
    "\n",
    "print(\"Result: \", distance)"
   ]
  },
  {
   "cell_type": "code",
   "execution_count": null,
   "metadata": {},
   "outputs": [],
   "source": [
    "main_df.head()"
   ]
  },
  {
   "cell_type": "code",
   "execution_count": null,
   "metadata": {},
   "outputs": [],
   "source": [
    "# import numpy as np\n",
    "# main_df[\"lat1\"] = np.radians(main_df[\"start_lat\"])\n",
    "# main_df[\"lat2\"] = np.radians(main_df[\"end_lat\"])\n",
    "# main_df[\"lon1\"] = np.radians(main_df[\"start_lng\"])\n",
    "# main_df[\"lon2\"] = np.radians(main_df[\"end_lng\"])\n",
    "# main_df[\"dlon\"] = main_df[\"lon2\"] - main_df[\"lon1\"]\n",
    "# main_df[\"dlat\"] = main_df[\"lat2\"] - main_df[\"lat1\"]"
   ]
  },
  {
   "cell_type": "code",
   "execution_count": null,
   "metadata": {},
   "outputs": [],
   "source": [
    "# a = sin(dlat / 2)**2 + cos(lat1) * cos(lat2) * sin(dlon / 2)**2\n",
    "# c = 2 * atan2(sqrt(a), sqrt(1 - a))\n",
    "# distance = R * c\n",
    "\n",
    "# main_df[\"a\"] = np.sin(main_df[\"dlat\"] / 2)**2 + np.cos(main_df[\"lat1\"]) * np.cos(main_df[\"lat2\"]) * np.sin(main_df[\"dlon\"] / 2)**2\n",
    "# main_df[\"c\"] = 2 * atan2(sqrt(main_df[\"a\"]), sqrt(1 - main_df[\"a\"]))"
   ]
  },
  {
   "cell_type": "code",
   "execution_count": null,
   "metadata": {},
   "outputs": [],
   "source": [
    "# main_df[\"c\"] = 2 * np.arctan2(np.sqrt(main_df[\"a\"]), np.sqrt(1 - main_df[\"a\"]))"
   ]
  },
  {
   "cell_type": "code",
   "execution_count": null,
   "metadata": {},
   "outputs": [],
   "source": [
    "# main_df[\"distance\"] = R*main_df[\"c\"]"
   ]
  },
  {
   "cell_type": "code",
   "execution_count": null,
   "metadata": {},
   "outputs": [],
   "source": [
    "# Approximate radius of earth in km\n",
    "R = 6373.0\n",
    "\n",
    "import numpy as np\n",
    "\n",
    "lat1 = np.radians(main_df[\"start_lat\"])\n",
    "lat2 = np.radians(main_df[\"end_lat\"])\n",
    "lng1 = np.radians(main_df[\"start_lng\"])\n",
    "lng2 = np.radians(main_df[\"end_lng\"])\n",
    "dlng = lng2 - lng1\n",
    "dlat = lat2 - lat1\n",
    "\n",
    "a = np.sin(dlat / 2)**2 + np.cos(lat1) * np.cos(lat2) * np.sin(dlng / 2)**2\n",
    "c = 2 * np.arctan2(np.sqrt(a), np.sqrt(1 - a))\n",
    "\n",
    "main_df[\"distance\"] = R*c"
   ]
  },
  {
   "cell_type": "code",
   "execution_count": null,
   "metadata": {},
   "outputs": [],
   "source": [
    "main_df.reset_index(inplace=True)"
   ]
  },
  {
   "cell_type": "code",
   "execution_count": null,
   "metadata": {},
   "outputs": [],
   "source": [
    "(pd.to_datetime(main_df.ended_at[0]) - pd.to_datetime(main_df.started_at[0])).total_seconds()/60"
   ]
  },
  {
   "cell_type": "code",
   "execution_count": null,
   "metadata": {},
   "outputs": [],
   "source": [
    "main_df[\"duration_minutes\"] = (pd.to_datetime(main_df[\"ended_at\"]) - pd.to_datetime(main_df[\"started_at\"])).dt.total_seconds()/60"
   ]
  },
  {
   "cell_type": "code",
   "execution_count": null,
   "metadata": {},
   "outputs": [],
   "source": [
    "main_df.info()"
   ]
  },
  {
   "cell_type": "code",
   "execution_count": null,
   "metadata": {},
   "outputs": [],
   "source": [
    "main_df.head()"
   ]
  },
  {
   "cell_type": "code",
   "execution_count": null,
   "metadata": {},
   "outputs": [],
   "source": [
    "import matplotlib.pyplot as plt\n",
    "plt.hist(main_df[\"distance\"],bins=100)\n",
    "plt.show()"
   ]
  },
  {
   "cell_type": "code",
   "execution_count": null,
   "metadata": {},
   "outputs": [],
   "source": [
    "main_df.to_csv(\"main_distance.csv\",index=False)"
   ]
  },
  {
   "cell_type": "code",
   "execution_count": null,
   "metadata": {},
   "outputs": [],
   "source": [
    "df1 = pd.read_csv(\"main_distance.csv\",encoding=\"utf8\")"
   ]
  },
  {
   "cell_type": "code",
   "execution_count": null,
   "metadata": {},
   "outputs": [],
   "source": [
    "df1.head()"
   ]
  },
  {
   "cell_type": "code",
   "execution_count": null,
   "metadata": {},
   "outputs": [],
   "source": [
    "df1.sort_values(by=\"distance\",ascending=False,inplace=True)\n",
    "df1.head()"
   ]
  },
  {
   "cell_type": "code",
   "execution_count": null,
   "metadata": {},
   "outputs": [],
   "source": [
    "# from math import sin, cos, sqrt, atan2, radians\n",
    "\n",
    "# # Approximate radius of earth in km\n",
    "# R = 6373.0\n",
    "\n",
    "# lat1 = radians(40.735938)\n",
    "# lon1 = radians(-74.030305)\n",
    "# lat2 = radians(40.727596)\n",
    "# lon2 = radians(-74.044247)\n",
    "\n",
    "# dlon = lon2 - lon1\n",
    "# dlat = lat2 - lat1\n",
    "\n",
    "# a = sin(dlat / 2)**2 + cos(lat1) * cos(lat2) * sin(dlon / 2)**2\n",
    "# c = 2 * atan2(sqrt(a), sqrt(1 - a))\n",
    "\n",
    "# distance = R * c\n",
    "\n",
    "# print(\"Result: \", distance)"
   ]
  }
 ],
 "metadata": {
  "kernelspec": {
   "display_name": "Python 3 (ipykernel)",
   "language": "python",
   "name": "python3"
  },
  "language_info": {
   "codemirror_mode": {
    "name": "ipython",
    "version": 3
   },
   "file_extension": ".py",
   "mimetype": "text/x-python",
   "name": "python",
   "nbconvert_exporter": "python",
   "pygments_lexer": "ipython3",
   "version": "3.7.7"
  }
 },
 "nbformat": 4,
 "nbformat_minor": 2
}
