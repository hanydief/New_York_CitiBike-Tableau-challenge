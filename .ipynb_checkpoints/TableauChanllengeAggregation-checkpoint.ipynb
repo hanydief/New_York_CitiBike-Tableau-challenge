{
 "cells": [
  {
   "cell_type": "code",
   "execution_count": 1,
   "id": "daa6ba78",
   "metadata": {},
   "outputs": [
    {
     "ename": "ImportError",
     "evalue": "Unable to import required dependencies:\nnumpy: No module named 'numpy'",
     "output_type": "error",
     "traceback": [
      "\u001b[1;31m---------------------------------------------------------------------------\u001b[0m",
      "\u001b[1;31mImportError\u001b[0m                               Traceback (most recent call last)",
      "\u001b[1;32m~\\AppData\\Local\\Temp\\ipykernel_8244\\3172591061.py\u001b[0m in \u001b[0;36m<module>\u001b[1;34m\u001b[0m\n\u001b[1;32m----> 1\u001b[1;33m \u001b[1;32mimport\u001b[0m \u001b[0mpandas\u001b[0m \u001b[1;32mas\u001b[0m \u001b[0mpd\u001b[0m\u001b[1;33m\u001b[0m\u001b[1;33m\u001b[0m\u001b[0m\n\u001b[0m\u001b[0;32m      2\u001b[0m \u001b[1;32mimport\u001b[0m \u001b[0mnumpy\u001b[0m \u001b[1;32mas\u001b[0m \u001b[0mnp\u001b[0m\u001b[1;33m\u001b[0m\u001b[1;33m\u001b[0m\u001b[0m\n\u001b[0;32m      3\u001b[0m \u001b[1;32mfrom\u001b[0m \u001b[0mdatetime\u001b[0m \u001b[1;32mimport\u001b[0m \u001b[0mdatetime\u001b[0m\u001b[1;33m\u001b[0m\u001b[1;33m\u001b[0m\u001b[0m\n",
      "\u001b[1;32m~\\.conda\\envs\\PythonData\\lib\\site-packages\\pandas\\__init__.py\u001b[0m in \u001b[0;36m<module>\u001b[1;34m\u001b[0m\n\u001b[0;32m     15\u001b[0m \u001b[1;32mif\u001b[0m \u001b[0mmissing_dependencies\u001b[0m\u001b[1;33m:\u001b[0m\u001b[1;33m\u001b[0m\u001b[1;33m\u001b[0m\u001b[0m\n\u001b[0;32m     16\u001b[0m     raise ImportError(\n\u001b[1;32m---> 17\u001b[1;33m         \u001b[1;34m\"Unable to import required dependencies:\\n\"\u001b[0m \u001b[1;33m+\u001b[0m \u001b[1;34m\"\\n\"\u001b[0m\u001b[1;33m.\u001b[0m\u001b[0mjoin\u001b[0m\u001b[1;33m(\u001b[0m\u001b[0mmissing_dependencies\u001b[0m\u001b[1;33m)\u001b[0m\u001b[1;33m\u001b[0m\u001b[1;33m\u001b[0m\u001b[0m\n\u001b[0m\u001b[0;32m     18\u001b[0m     )\n\u001b[0;32m     19\u001b[0m \u001b[1;32mdel\u001b[0m \u001b[0mhard_dependencies\u001b[0m\u001b[1;33m,\u001b[0m \u001b[0mdependency\u001b[0m\u001b[1;33m,\u001b[0m \u001b[0mmissing_dependencies\u001b[0m\u001b[1;33m\u001b[0m\u001b[1;33m\u001b[0m\u001b[0m\n",
      "\u001b[1;31mImportError\u001b[0m: Unable to import required dependencies:\nnumpy: No module named 'numpy'"
     ]
    }
   ],
   "source": [
    "import pandas as pd\n",
    "import numpy as np\n",
    "from datetime import datetime"
   ]
  },
  {
   "cell_type": "code",
   "execution_count": null,
   "id": "26662711",
   "metadata": {},
   "outputs": [],
   "source": [
    "# list of files to combine\n",
    "Citibike23 = ['Resources6months2023/JC-202301-citibike-tripdata.csv','Resources6months2023/JC-202302-citibike-tripdata.csv','Resources6months2023/JC-202303-citibike-tripdata.csv','Resources6months2023/JC-202304-citibike-tripdata.csv','Resources6months2023/JC-202305-citibike-tripdata.csv','Resources6months2023/JC-202306-citibike-tripdata.csv']"
   ]
  },
  {
   "cell_type": "code",
   "execution_count": null,
   "id": "ad302da7",
   "metadata": {},
   "outputs": [],
   "source": [
    "# create empty list\n",
    "dfCitibike23_list = []"
   ]
  },
  {
   "cell_type": "code",
   "execution_count": null,
   "id": "d0d33607",
   "metadata": {},
   "outputs": [],
   "source": [
    "# for loop to read the list of files int dataframe\n",
    "for file in Citibike23:\n",
    "    dfcitibike23 = pd.read_csv(file)\n",
    "    dfCitibike23_list.append(dfcitibike23)"
   ]
  },
  {
   "cell_type": "code",
   "execution_count": null,
   "id": "80416b2c",
   "metadata": {},
   "outputs": [],
   "source": [
    "# concatenate all 6 months dataframe\n",
    "dfcitibike23 = pd.concat(dfCitibike23_list,axis=0)"
   ]
  },
  {
   "cell_type": "code",
   "execution_count": null,
   "id": "4ecd94f1",
   "metadata": {},
   "outputs": [],
   "source": [
    "# show dataframe\n",
    "dfcitibike23.dropna(inplace=True)\n",
    "dfcitibike23.head()"
   ]
  },
  {
   "cell_type": "code",
   "execution_count": null,
   "id": "3ba09a7d",
   "metadata": {},
   "outputs": [],
   "source": [
    "# show dataframe info\n",
    "dfcitibike23.info()"
   ]
  },
  {
   "cell_type": "code",
   "execution_count": null,
   "id": "18111be1",
   "metadata": {},
   "outputs": [],
   "source": [
    "# adding empty column Duration\n",
    "dfcitibike23[\"Duration_min\"] = \"\""
   ]
  },
  {
   "cell_type": "code",
   "execution_count": null,
   "id": "05a05f85",
   "metadata": {},
   "outputs": [],
   "source": [
    "dfcitibike23[\"Duration_min\"] = (pd.to_datetime(dfcitibike23[\"ended_at\"]) - pd.to_datetime(dfcitibike23[\"started_at\"])).dt.total_seconds()/60"
   ]
  },
  {
   "cell_type": "code",
   "execution_count": null,
   "id": "726e2067",
   "metadata": {},
   "outputs": [],
   "source": [
    "# adding empty column Distance\n",
    "dfcitibike23[\"Distance\"] = \"\""
   ]
  },
  {
   "cell_type": "code",
   "execution_count": null,
   "id": "28d7cc59",
   "metadata": {},
   "outputs": [],
   "source": [
    "# Calculating & appending Distance\n",
    "# Approximate radius of earth in km\n",
    "R = 6373.0\n",
    "\n",
    "import numpy as np\n",
    "\n",
    "lat1 = np.radians(dfcitibike23[\"start_lat\"])\n",
    "lat2 = np.radians(dfcitibike23[\"end_lat\"])\n",
    "lng1 = np.radians(dfcitibike23[\"start_lng\"])\n",
    "lng2 = np.radians(dfcitibike23[\"end_lng\"])\n",
    "dlng = lng2 - lng1\n",
    "dlat = lat2 - lat1\n",
    "\n",
    "a = np.sin(dlat / 2)**2 + np.cos(lat1) * np.cos(lat2) * np.sin(dlng / 2)**2\n",
    "c = 2 * np.arctan2(np.sqrt(a), np.sqrt(1 - a))\n",
    "\n",
    "dfcitibike23[\"Distance\"] = R*c"
   ]
  },
  {
   "cell_type": "markdown",
   "id": "9e196deb",
   "metadata": {},
   "source": [
    "R=6373\n",
    "for index,row in dfcitibike23.iterrows():\n",
    "    lat1=radians(row[\"start_lat\"])\n",
    "    lon1=radians(row[\"start_lng\"])\n",
    "    lat2=radians(row[\"end_lat\"])\n",
    "    lon2=radians(row[\"end_lng\"])\n",
    "    \n",
    "    dlon=lon2-lon1\n",
    "    dlat=lat2-lat1\n",
    "    \n",
    "    a=sin(dlat/2)**2 + cos(lat2)*sin(dlon/2)**2\n",
    "    c=2*atan2(sqrt(a),sqrt(1-a))\n",
    "    \n",
    "    dfcitibike23.at[index,\"distance\"]=R*c"
   ]
  },
  {
   "cell_type": "code",
   "execution_count": null,
   "id": "424593df",
   "metadata": {},
   "outputs": [],
   "source": [
    "# show dataframe\n",
    "dfcitibike23.head()"
   ]
  },
  {
   "cell_type": "code",
   "execution_count": null,
   "id": "b94e47a0",
   "metadata": {},
   "outputs": [],
   "source": [
    "dfcitibike23.info()"
   ]
  },
  {
   "cell_type": "code",
   "execution_count": null,
   "id": "9a511934",
   "metadata": {},
   "outputs": [],
   "source": [
    "dfcitibike23.to_csv('Resources6months2023/citibike23.csv')"
   ]
  },
  {
   "cell_type": "code",
   "execution_count": null,
   "id": "cfe3dca4",
   "metadata": {},
   "outputs": [],
   "source": []
  }
 ],
 "metadata": {
  "kernelspec": {
   "display_name": "PythonData",
   "language": "python",
   "name": "pythondata"
  },
  "language_info": {
   "codemirror_mode": {
    "name": "ipython",
    "version": 3
   },
   "file_extension": ".py",
   "mimetype": "text/x-python",
   "name": "python",
   "nbconvert_exporter": "python",
   "pygments_lexer": "ipython3",
   "version": "3.7.7"
  }
 },
 "nbformat": 4,
 "nbformat_minor": 5
}
